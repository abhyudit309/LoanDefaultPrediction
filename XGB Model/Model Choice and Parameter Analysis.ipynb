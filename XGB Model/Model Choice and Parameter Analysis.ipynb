{
 "cells": [
  {
   "cell_type": "code",
   "execution_count": 1,
   "metadata": {},
   "outputs": [],
   "source": [
    "import warnings                                  # `do not disturbe` mode\n",
    "warnings.filterwarnings('ignore')\n",
    "\n",
    "import numpy as np                               # vectors and matrices\n",
    "import pandas as pd                              # tables and data manipulations\n",
    "import matplotlib.pyplot as plt                  # plots\n",
    "import seaborn as sns                            # more plots\n",
    "\n",
    "from dateutil.relativedelta import relativedelta # working with dates with style\n",
    "from scipy.optimize import minimize              # for function minimization\n",
    "\n",
    "import statsmodels.formula.api as smf            # statistics and econometrics\n",
    "import statsmodels.tsa.api as smt\n",
    "import statsmodels.api as sm\n",
    "import scipy.stats as scs\n",
    "\n",
    "from itertools import product                    # some useful functions\n",
    "from tqdm import tqdm_notebook\n",
    "\n",
    "import xgboost as xgb\n",
    "from sklearn.metrics import mean_squared_error\n",
    "from sklearn.model_selection import train_test_split\n",
    "from xgboost import XGBClassifier\n",
    "from sklearn.tree import DecisionTreeRegressor\n",
    "from sklearn.model_selection import cross_val_score\n",
    "\n",
    "from IPython.core.interactiveshell import InteractiveShell\n",
    "InteractiveShell.ast_node_interactivity = \"all\"\n",
    "%matplotlib inline\n",
    "\n",
    "from sklearn import svm\n",
    "from sklearn.ensemble import GradientBoostingClassifier as GBC\n",
    "from sklearn.discriminant_analysis import LinearDiscriminantAnalysis as LDA\n",
    "from sklearn.discriminant_analysis import QuadraticDiscriminantAnalysis as QDA\n",
    "from sklearn.linear_model import LogisticRegression\n",
    "from sklearn.ensemble import RandomForestClassifier as RFC\n",
    "from sklearn.preprocessing import LabelEncoder\n",
    "from sklearn.preprocessing import OrdinalEncoder\n",
    "from sklearn.metrics import accuracy_score, f1_score\n",
    "from sklearn.feature_selection import SelectKBest, chi2, f_classif\n",
    "\n",
    "from sklearn.metrics import r2_score, median_absolute_error, mean_absolute_error\n",
    "from sklearn.metrics import median_absolute_error, mean_squared_error, mean_squared_log_error\n",
    "def mean_absolute_percentage_error(y_true, y_pred): \n",
    "    return np.mean(np.abs((y_true - y_pred) / y_true)) * 100"
   ]
  },
  {
   "cell_type": "code",
   "execution_count": 2,
   "metadata": {},
   "outputs": [],
   "source": [
    "trainxy = pd.read_csv('/home/kshitij/Acads/MS4610 project/IDA project dataset/train_xy.csv')\n",
    "trainx  = pd.read_csv('/home/kshitij/Acads/MS4610 project/IDA project dataset/train_x.csv')\n",
    "trainy  = pd.read_csv('/home/kshitij/Acads/MS4610 project/IDA project dataset/train_y.csv')\n",
    "\n",
    "trainxy.drop(['ID'],axis=1,inplace=True)\n",
    "trainx.drop(['ID'],axis=1,inplace=True)\n",
    "trainy.drop(['ID'],axis=1,inplace=True)\n",
    "\n",
    "#Basic conversion of Categorical variables\n",
    "trainxy[\"Loan type\"] = trainxy[\"Loan type\"].astype('category')\n",
    "trainxy[\"Loan type\"] = trainxy[\"Loan type\"].cat.codes\n",
    "trainxy.loc[(trainxy['Loan type']==-1),'Loan type']=np.NaN\n",
    "trainxy=pd.get_dummies(trainxy, columns=[\"Occupation type\"], prefix=[\"Occupation\"])\n",
    "\n",
    "#Imputing Age\n",
    "trainxy.loc[(trainxy.Age.isna())&(trainxy.Score2>=194.9185),'Age']=1\n",
    "trainxy.loc[(trainxy.Age.isna())&(trainxy.Score2<194.9185),'Age']=0\n",
    "\n",
    "#Imputing Loan type\n",
    "trainxy[\"Loan type\"] = trainxy[\"Loan type\"].astype('category')\n",
    "trainxy[\"Loan type\"] = trainxy[\"Loan type\"].cat.codes\n",
    "trainxy.loc[(trainxy['Loan type']==-1),'Loan type']=np.NaN\n",
    "#trainxy.loc[(trainxy.Score2.notna())&(trainxy['Loan type'].isna())&(192.47<trainxy.Score2),'Loan type']=1\n",
    "#trainxy.loc[(trainxy.Score2.notna())&(trainxy['Loan type'].isna())&(192.47>trainxy.Score2),'Loan type']=0\n",
    "\n",
    "#Imputing Occupation type\n",
    "#trainxy.loc[(trainxy.Score4.notna())&(trainxy.Occupation_X==0)&(trainxy.Occupation_Y==0)&(trainxy.Occupation_Z==0)&(602.81<trainxy.Score4),'Occupation_X']=1\n",
    "#trainxy.loc[(trainxy.Score4.notna())&(trainxy.Occupation_X==0)&(trainxy.Occupation_Y==0)&(trainxy.Occupation_Z==0)&(598.71<trainxy.Score4)&(trainxy.Score4<602.38),'Occupation_Y']=1\n",
    "#trainxy.loc[(trainxy.Score4.notna())&(trainxy.Occupation_X==0)&(trainxy.Occupation_Y==0)&(trainxy.Occupation_Z==0)&(trainxy.Score4<598.67),'Occupation_Z']=1\n",
    "\n",
    "#Imputing Score4\n",
    "#trainxy.loc[(trainxy.Score4.isna())&(trainxy.Occupation_X==1),'Score4']=trainxy.loc[(trainxy.Score4.isna())&(trainxy.Occupation_X==1)].Score4.median()\n",
    "#trainxy.loc[(trainxy.Score4.isna())&(trainxy.Occupation_Y==1),'Score4']=trainxy.loc[(trainxy.Score4.isna())&(trainxy.Occupation_Y==1)].Score4.median()\n",
    "#trainxy.loc[(trainxy.Score4.isna())&(trainxy.Occupation_Z==1),'Score4']=trainxy.loc[(trainxy.Score4.isna())&(trainxy.Occupation_Z==1)].Score4.median()\n",
    "\n",
    "#Imputing Expense and Score5\n",
    "trainxy.loc[(trainxy.Expense.isna())&(trainxy.Score5.notna()),'Expense']=trainxy.Score5*2.06976-5339.9\n",
    "trainxy.loc[(trainxy.Expense.notna())&(trainxy.Score5.isna()),'Score5']=(trainxy.Expense+5339.9)/2.06976\n",
    "\n",
    "#Imputing Score2 and Score4\n",
    "trainxy.loc[(trainxy.Expense.isna())&(trainxy.Score5.notna()),'Expense']=trainxy.Score5*2.06976-5339.9\n",
    "trainxy.loc[(trainxy.Expense.notna())&(trainxy.Score5.isna()),'Score5']=(trainxy.Expense+5339.9)/2.06976\n",
    "\n",
    "#Imputing Score3 and the remaining Expense\n",
    "#trainxy.loc[(trainxy.Expense.isna())&(trainxy.Score3.notna()),'Expense']=trainxy.Score3*11.3017+1628.15\n",
    "#trainxy.loc[(trainxy.Expense.notna())&(trainxy.Score3.isna()),'Score3']=(trainxy.Expense-1628.15)/11.3017\n",
    "\n",
    "#Imputing Score1 and the remaining Score4 \n",
    "#trainxy.loc[(trainxy.Score4.isna())&(trainxy.Score1.notna()),'Score4']=trainxy.Score1*17.7343+597.066\n",
    "#trainxy.loc[(trainxy.Score4.notna())&(trainxy.Score1.isna()),'Score1']=(trainxy.Score4-597.066)/17.7343\n",
    "\n",
    "#Imputing Score2 and Income\n",
    "#trainxy.loc[(trainxy.Income.isna())&(trainxy.Score2.notna()),'Income']=trainxy.Score2*20.9689+11613.7\n",
    "#trainxy.loc[(trainxy.Income.notna())&(trainxy.Score2.isna()),'Score2']=(trainxy.Income-11613.7)/20.9689\n",
    "\n",
    "\n",
    "#Dropping Score5 since it has perfect correlation w Expense\n",
    "trainxy.drop(['Score5'],axis=1,inplace=True)\n",
    "\n",
    "#Dropping the remaining Null values\n",
    "trainxy.dropna(inplace=True)\n",
    "trainx=trainxy.copy()\n",
    "trainx.drop(['Label'],axis=1,inplace=True)\n",
    "\n",
    "x_train, x_test, y_train, y_test = train_test_split(trainx, trainxy.Label, test_size = 0.2)  "
   ]
  },
  {
   "cell_type": "raw",
   "metadata": {},
   "source": [
    "Using the chosen dataset, we first proceed to create a test train split dataset since cross validation was not computationally feasible for SVMs"
   ]
  },
  {
   "cell_type": "raw",
   "metadata": {},
   "source": [
    "We now proceed to run a basic accuracy, precision score and f1 score test on all our model types"
   ]
  },
  {
   "cell_type": "code",
   "execution_count": 3,
   "metadata": {},
   "outputs": [
    {
     "data": {
      "text/plain": [
       "SVC(kernel='linear')"
      ]
     },
     "execution_count": 3,
     "metadata": {},
     "output_type": "execute_result"
    },
    {
     "data": {
      "text/plain": [
       "SVC(kernel='poly')"
      ]
     },
     "execution_count": 3,
     "metadata": {},
     "output_type": "execute_result"
    },
    {
     "data": {
      "text/plain": [
       "SVC()"
      ]
     },
     "execution_count": 3,
     "metadata": {},
     "output_type": "execute_result"
    },
    {
     "data": {
      "text/plain": [
       "SVC(kernel='sigmoid')"
      ]
     },
     "execution_count": 3,
     "metadata": {},
     "output_type": "execute_result"
    },
    {
     "data": {
      "text/plain": [
       "[<matplotlib.lines.Line2D at 0x7fd0f63f9d30>]"
      ]
     },
     "execution_count": 3,
     "metadata": {},
     "output_type": "execute_result"
    },
    {
     "data": {
      "text/plain": [
       "Text(0.5, 0, 'kernels')"
      ]
     },
     "execution_count": 3,
     "metadata": {},
     "output_type": "execute_result"
    },
    {
     "data": {
      "text/plain": [
       "Text(0, 0.5, 'accuracy')"
      ]
     },
     "execution_count": 3,
     "metadata": {},
     "output_type": "execute_result"
    },
    {
     "data": {
      "image/png": "[encoded data removed]",
      "text/plain": [
       "<Figure size 432x288 with 1 Axes>"
      ]
     },
     "metadata": {
      "needs_background": "light"
     },
     "output_type": "display_data"
    }
   ],
   "source": [
    "#Testing for SVMs with different Kernel types\n",
    "kernels = ['linear', 'poly', 'rbf', 'sigmoid']\n",
    "acc_svm = []\n",
    "for ker in kernels:\n",
    "    model_svm = svm.SVC(kernel = ker)\n",
    "    model_svm.fit(x_train, y_train)\n",
    "    predictions_svm = model_svm.predict(x_test)\n",
    "    acc_svm.append(accuracy_score(y_test, predictions_svm))\n",
    "plt.plot(kernels, acc_svm)\n",
    "plt.xlabel('kernels')\n",
    "plt.ylabel('accuracy')"
   ]
  },
  {
   "cell_type": "code",
   "execution_count": 4,
   "metadata": {},
   "outputs": [
    {
     "name": "stdout",
     "output_type": "stream",
     "text": [
      "The Accuracy of the SVM model is 0.9609267472090534 and the f1 score is 0.01195219123505976 and the precision score is 0.01195219123505976\n"
     ]
    }
   ],
   "source": [
    "# Accuracy and f1 score for the linear (best) kernel\n",
    "f1_sc_svm = f1_score(y_test, predictions_svm)\n",
    "precision_svm = f1_score(y_test, predictions_svm)\n",
    "print(f\"The Accuracy of the SVM model is {acc_svm[0]} and the f1 score is {f1_sc_svm} and the precision score is {precision_svm}\")"
   ]
  },
  {
   "cell_type": "code",
   "execution_count": 5,
   "metadata": {},
   "outputs": [
    {
     "data": {
      "text/plain": [
       "RandomForestClassifier(max_features='sqrt')"
      ]
     },
     "execution_count": 5,
     "metadata": {},
     "output_type": "execute_result"
    },
    {
     "name": "stdout",
     "output_type": "stream",
     "text": [
      "The Accuracy of the RFC model is 0.9846306774736198 and the f1 score is 0.867501647989453 and the precision score is 0.867501647989453\n"
     ]
    }
   ],
   "source": [
    "# Random Forests Classifier model\n",
    "model_RFC = RFC(max_features = 'sqrt')\n",
    "model_RFC.fit(x_train, y_train)\n",
    "predictions_RFC = model_RFC.predict(x_test)\n",
    "acc_RFC = accuracy_score(y_test, predictions_RFC)\n",
    "f1_sc_RFC = f1_score(y_test, predictions_RFC)\n",
    "precision_RFC = f1_score(y_test, predictions_RFC)\n",
    "print(f\"The Accuracy of the RFC model is {acc_RFC} and the f1 score is {f1_sc_RFC} and the precision score is {precision_RFC}\")"
   ]
  },
  {
   "cell_type": "code",
   "execution_count": 6,
   "metadata": {},
   "outputs": [
    {
     "data": {
      "text/plain": [
       "LogisticRegression(max_iter=300)"
      ]
     },
     "execution_count": 6,
     "metadata": {},
     "output_type": "execute_result"
    },
    {
     "name": "stdout",
     "output_type": "stream",
     "text": [
      "The Accuracy of the Logistic Regression model is 0.9627618901972779 and the f1 score is 0.6069410815173527 and the precision score is 0.6069410815173527\n"
     ]
    }
   ],
   "source": [
    "# Logistic Regression model\n",
    "model_LR = LogisticRegression(max_iter=300)\n",
    "model_LR.fit(x_train, y_train)\n",
    "predictions_LR = model_LR.predict(x_test)\n",
    "acc_LR = accuracy_score(y_test, predictions_LR)\n",
    "f1_sc_LR = f1_score(y_test, predictions_LR)\n",
    "precision_LR = f1_score(y_test, predictions_LR)\n",
    "print(f\"The Accuracy of the Logistic Regression model is {acc_LR} and the f1 score is {f1_sc_LR} and the precision score is {precision_LR}\")"
   ]
  },
  {
   "cell_type": "code",
   "execution_count": 7,
   "metadata": {},
   "outputs": [
    {
     "data": {
      "text/plain": [
       "LinearDiscriminantAnalysis()"
      ]
     },
     "execution_count": 7,
     "metadata": {},
     "output_type": "execute_result"
    },
    {
     "name": "stdout",
     "output_type": "stream",
     "text": [
      "The Accuracy of the LDA model is 0.9613090686649335 and the f1 score is 0.6235119047619048 and the precision score is 0.6235119047619048\n"
     ]
    }
   ],
   "source": [
    "# Linear Discriminant Analysis model\n",
    "model_LDA = LDA()\n",
    "model_LDA.fit(x_train, y_train)\n",
    "predictions_LDA = model_LDA.predict(x_test)\n",
    "acc_LDA = accuracy_score(y_test, predictions_LDA)\n",
    "f1_sc_LDA = f1_score(y_test, predictions_LDA)\n",
    "precision_LDA = f1_score(y_test, predictions_LDA)\n",
    "print(f\"The Accuracy of the LDA model is {acc_LDA} and the f1 score is {f1_sc_LDA} and the precision score is {precision_LDA}\")"
   ]
  },
  {
   "cell_type": "code",
   "execution_count": 8,
   "metadata": {},
   "outputs": [
    {
     "data": {
      "text/plain": [
       "QuadraticDiscriminantAnalysis()"
      ]
     },
     "execution_count": 8,
     "metadata": {},
     "output_type": "execute_result"
    },
    {
     "name": "stdout",
     "output_type": "stream",
     "text": [
      "The Accuracy of the QDA model is 0.9688025692001835 and the f1 score is 0.7381258023106547 and the precision score is 0.7381258023106547\n"
     ]
    }
   ],
   "source": [
    "# Quadratic Discriminant Analysis model\n",
    "model_QDA = QDA()\n",
    "model_QDA.fit(x_train, y_train)\n",
    "predictions_QDA = model_QDA.predict(x_test)\n",
    "acc_QDA = accuracy_score(y_test, predictions_QDA)\n",
    "f1_sc_QDA = f1_score(y_test, predictions_QDA)\n",
    "precision_QDA = f1_score(y_test, predictions_QDA)\n",
    "print(f\"The Accuracy of the QDA model is {acc_QDA} and the f1 score is {f1_sc_QDA} and the precision score is {precision_QDA}\")"
   ]
  },
  {
   "cell_type": "code",
   "execution_count": 9,
   "metadata": {},
   "outputs": [
    {
     "data": {
      "text/plain": [
       "GradientBoostingClassifier()"
      ]
     },
     "execution_count": 9,
     "metadata": {},
     "output_type": "execute_result"
    },
    {
     "name": "stdout",
     "output_type": "stream",
     "text": [
      "The Accuracy of the GBC model is 0.9786664627618902 and the f1 score is 0.8087731322823852 and the precision score is 0.8087731322823852\n"
     ]
    }
   ],
   "source": [
    "# Boosting Classifier model\n",
    "model_GBC = GBC()\n",
    "model_GBC.fit(x_train, y_train)\n",
    "predictions_GBC = model_GBC.predict(x_test)\n",
    "acc_GBC = accuracy_score(y_test, predictions_GBC)\n",
    "f1_sc_GBC = f1_score(y_test, predictions_GBC)\n",
    "precision_GBC = f1_score(y_test, predictions_GBC)\n",
    "print(f\"The Accuracy of the GBC model is {acc_GBC} and the f1 score is {f1_sc_GBC} and the precision score is {precision_GBC}\")"
   ]
  },
  {
   "cell_type": "code",
   "execution_count": 10,
   "metadata": {},
   "outputs": [
    {
     "data": {
      "text/plain": [
       "XGBClassifier(base_score=0.5, booster='gbtree', colsample_bylevel=1,\n",
       "              colsample_bynode=1, colsample_bytree=1, gamma=0, gpu_id=-1,\n",
       "              importance_type='gain', interaction_constraints='',\n",
       "              learning_rate=0.05, max_delta_step=0, max_depth=6,\n",
       "              min_child_weight=1, missing=nan, monotone_constraints='()',\n",
       "              n_estimators=1000, n_jobs=0, num_parallel_tree=1, random_state=0,\n",
       "              reg_alpha=0, reg_lambda=1, scale_pos_weight=1, subsample=1,\n",
       "              tree_method='auto', validate_parameters=1, verbosity=None)"
      ]
     },
     "execution_count": 10,
     "metadata": {},
     "output_type": "execute_result"
    },
    {
     "name": "stdout",
     "output_type": "stream",
     "text": [
      "The Accuracy of the XGB model is 0.9865422847530203 and the f1 score is 0.8855656697009103 and the precision score is 0.8855656697009103\n"
     ]
    }
   ],
   "source": [
    "model_XGB = xgb.XGBClassifier(random_state=0,n_estimators=1000,learning_rate=0.05,max_depth=6, tree_method='auto')\n",
    "model_XGB.fit(x_train, y_train)\n",
    "predictions_XGB= model_XGB.predict(x_test)\n",
    "acc_XGB = accuracy_score(y_test, predictions_XGB)\n",
    "f1_sc_XGB = f1_score(y_test, predictions_XGB)\n",
    "precision_XGB = f1_score(y_test, predictions_XGB)\n",
    "print(f\"The Accuracy of the XGB model is {acc_XGB} and the f1 score is {f1_sc_XGB} and the precision score is {precision_XGB}\")"
   ]
  },
  {
   "cell_type": "code",
   "execution_count": 11,
   "metadata": {},
   "outputs": [
    {
     "name": "stdout",
     "output_type": "stream",
     "text": [
      "                Models  Accuracy  Precision  f1 Score\n",
      "0                  SVM  0.960927   0.011952  0.011952\n",
      "1       Random Forests  0.984631   0.867502  0.867502\n",
      "2                  LDA  0.961309   0.623512  0.623512\n",
      "3                  QDA  0.968803   0.738126  0.738126\n",
      "4             Boosting  0.978666   0.808773  0.808773\n",
      "5  Logistic Regression  0.962762   0.606941  0.606941\n",
      "6              XGBoost  0.986542   0.885566  0.885566\n"
     ]
    }
   ],
   "source": [
    "# Selecting the best out of the seven models\n",
    "df_model = pd.DataFrame(['SVM','Random Forests','LDA','QDA','Boosting','Logistic Regression','XGBoost'])\n",
    "df_accuracy = pd.DataFrame([acc_svm[0], acc_RFC, acc_LDA, acc_QDA, acc_GBC, acc_LR,acc_XGB])\n",
    "df_precision = pd.DataFrame([precision_svm, precision_RFC, precision_LDA, precision_QDA, precision_GBC, precision_LR,precision_XGB])\n",
    "df_f1_score = pd.DataFrame([f1_sc_svm, f1_sc_RFC, f1_sc_LDA, f1_sc_QDA, f1_sc_GBC, f1_sc_LR,f1_sc_XGB])\n",
    "models = pd.concat([df_model,df_accuracy,df_precision,df_f1_score], axis=1)\n",
    "models.columns = ['Models','Accuracy','Precision','f1 Score']\n",
    "print(models)"
   ]
  },
  {
   "cell_type": "code",
   "execution_count": 12,
   "metadata": {},
   "outputs": [
    {
     "data": {
      "text/plain": [
       "[<matplotlib.lines.Line2D at 0x7fd0f42e3640>]"
      ]
     },
     "execution_count": 12,
     "metadata": {},
     "output_type": "execute_result"
    },
    {
     "data": {
      "text/plain": [
       "Text(0.5, 0, 'Models')"
      ]
     },
     "execution_count": 12,
     "metadata": {},
     "output_type": "execute_result"
    },
    {
     "data": {
      "text/plain": [
       "Text(0, 0.5, 'Accuracy')"
      ]
     },
     "execution_count": 12,
     "metadata": {},
     "output_type": "execute_result"
    },
    {
     "data": {
      "image/png": "[encoded data removed]",
      "text/plain": [
       "<Figure size 432x288 with 1 Axes>"
      ]
     },
     "metadata": {
      "needs_background": "light"
     },
     "output_type": "display_data"
    }
   ],
   "source": [
    "plt.plot(models['Models'], models['Accuracy'], 'o-')\n",
    "plt.xlabel('Models')\n",
    "plt.ylabel('Accuracy')"
   ]
  },
  {
   "cell_type": "code",
   "execution_count": 13,
   "metadata": {},
   "outputs": [
    {
     "data": {
      "text/plain": [
       "[<matplotlib.lines.Line2D at 0x7fd0f423b5b0>]"
      ]
     },
     "execution_count": 13,
     "metadata": {},
     "output_type": "execute_result"
    },
    {
     "data": {
      "text/plain": [
       "Text(0.5, 0, 'Models')"
      ]
     },
     "execution_count": 13,
     "metadata": {},
     "output_type": "execute_result"
    },
    {
     "data": {
      "text/plain": [
       "Text(0, 0.5, 'f1 score')"
      ]
     },
     "execution_count": 13,
     "metadata": {},
     "output_type": "execute_result"
    },
    {
     "data": {
      "image/png": "[encoded data removed]",
      "text/plain": [
       "<Figure size 432x288 with 1 Axes>"
      ]
     },
     "metadata": {
      "needs_background": "light"
     },
     "output_type": "display_data"
    }
   ],
   "source": [
    "plt.plot(models['Models'], models['f1 Score'], 'o-')\n",
    "plt.xlabel('Models')\n",
    "plt.ylabel('f1 score')"
   ]
  },
  {
   "cell_type": "code",
   "execution_count": 14,
   "metadata": {},
   "outputs": [
    {
     "data": {
      "text/plain": [
       "[<matplotlib.lines.Line2D at 0x7fd0f4206970>]"
      ]
     },
     "execution_count": 14,
     "metadata": {},
     "output_type": "execute_result"
    },
    {
     "data": {
      "text/plain": [
       "Text(0.5, 0, 'Models')"
      ]
     },
     "execution_count": 14,
     "metadata": {},
     "output_type": "execute_result"
    },
    {
     "data": {
      "text/plain": [
       "Text(0, 0.5, 'Precision')"
      ]
     },
     "execution_count": 14,
     "metadata": {},
     "output_type": "execute_result"
    },
    {
     "data": {
      "image/png": "[encoded data removed]",
      "text/plain": [
       "<Figure size 432x288 with 1 Axes>"
      ]
     },
     "metadata": {
      "needs_background": "light"
     },
     "output_type": "display_data"
    }
   ],
   "source": [
    "plt.plot(models['Models'], models['Precision'], 'o-')\n",
    "plt.xlabel('Models')\n",
    "plt.ylabel('Precision')"
   ]
  },
  {
   "cell_type": "raw",
   "metadata": {},
   "source": [
    "On the basis of the above accuracies as well as the fact that a decsion tree regressor fits this data best since we have a large number of categorical variables and plotting scatterplots such as:\n",
    "    sns.lmplot(x='Income', y='Score1', hue='Label', col='Occupation type', row='Age', data=trainxy)\n",
    "    Shows us that the labels are distributed hetereogenously within each group of the classification variable\n",
    "    This is the basis for choosing a decision tree regressor. Since the XGB has a higher accuracy than Random Forests, we choose that.\n",
    "    Also we note that while the test set had a majority of Label 0s we now have a majority of label 1s. This is why we have chosen to consider the 'Precision' and 'Accuracy' metrics."
   ]
  },
  {
   "cell_type": "raw",
   "metadata": {},
   "source": [
    "We now proceed to optimise the parameters of the XGB model"
   ]
  },
  {
   "cell_type": "code",
   "execution_count": 15,
   "metadata": {},
   "outputs": [],
   "source": [
    "loan_modelm1 = xgb.XGBClassifier(random_state=0,n_estimators=1000,learning_rate=0.05,max_depth=6, tree_method='auto')\n",
    "loan_modelm2 = xgb.XGBClassifier(random_state=0,n_estimators=1000,learning_rate=0.1, max_depth=6, tree_method='auto')\n",
    "loan_modelm3 = xgb.XGBClassifier(random_state=0,n_estimators=1000,learning_rate=0.01, max_depth=6, tree_method='auto')\n",
    "loan_modelm4 = xgb.XGBClassifier(random_state=0,n_estimators=5000,learning_rate=0.05, max_depth=6, tree_method='auto')\n",
    "loan_modelm5 = xgb.XGBClassifier(random_state=0,n_estimators=500,learning_rate=0.05, max_depth=6, tree_method='auto')\n",
    "loan_modelm6 = xgb.XGBClassifier(random_state=0,n_estimators=1000,learning_rate=0.05, max_depth=6, tree_method='auto')\n",
    "loan_modelm7 = xgb.XGBClassifier(random_state=0,n_estimators=1000,learning_rate=0.05,max_depth=6, tree_method='auto')\n",
    "loan_modelm8 = xgb.XGBClassifier(random_state=0,n_estimators=1000,learning_rate=0.05, max_depth=9, tree_method='auto')\n",
    "loan_modelm9 = xgb.XGBClassifier(random_state=0,n_estimators=1000,learning_rate=0.05, max_depth=3, tree_method='auto')"
   ]
  },
  {
   "cell_type": "code",
   "execution_count": 16,
   "metadata": {},
   "outputs": [],
   "source": [
    "crossm1=cross_val_score(estimator=loan_modelm1, X=trainx, y=trainxy.Label, error_score='raise',scoring='precision') \n",
    "crossm2=cross_val_score(estimator=loan_modelm2, X=trainx, y=trainxy.Label, error_score='raise',scoring='precision') \n",
    "crossm3=cross_val_score(estimator=loan_modelm3, X=trainx, y=trainxy.Label, error_score='raise',scoring='precision') "
   ]
  },
  {
   "cell_type": "code",
   "execution_count": 17,
   "metadata": {},
   "outputs": [],
   "source": [
    "crossm4=cross_val_score(estimator=loan_modelm4, X=trainx, y=trainxy.Label, error_score='raise',scoring='precision') \n",
    "crossm5=cross_val_score(estimator=loan_modelm5, X=trainx, y=trainxy.Label, error_score='raise',scoring='precision')\n",
    "crossm6=cross_val_score(estimator=loan_modelm6, X=trainx, y=trainxy.Label, error_score='raise',scoring='precision')"
   ]
  },
  {
   "cell_type": "code",
   "execution_count": 18,
   "metadata": {},
   "outputs": [],
   "source": [
    "crossm7=cross_val_score(estimator=loan_modelm7, X=trainx, y=trainxy.Label, error_score='raise',scoring='precision')\n",
    "crossm8=cross_val_score(estimator=loan_modelm8, X=trainx, y=trainxy.Label, error_score='raise',scoring='precision')\n",
    "crossm9=cross_val_score(estimator=loan_modelm9, X=trainx, y=trainxy.Label, error_score='raise',scoring='precision')"
   ]
  },
  {
   "cell_type": "code",
   "execution_count": 20,
   "metadata": {},
   "outputs": [
    {
     "name": "stdout",
     "output_type": "stream",
     "text": [
      "0.947266178697892 0.9435925978277645 0.9376897817094247 0.9423529867266621 0.9431261342922049 0.947266178697892 0.947266178697892 0.9475648109427413 0.9342834035150489\n"
     ]
    }
   ],
   "source": [
    "print(crossm1.mean(),crossm2.mean(),crossm3.mean(),crossm4.mean(),crossm5.mean(),crossm6.mean(),crossm7.mean(),crossm8.mean(),crossm9.mean())"
   ]
  },
  {
   "cell_type": "raw",
   "metadata": {},
   "source": [
    "Now we notice that with a depth increase, there is an increase in preciison, however this increase is minimal and can cause large overfitting. Therefore we choose the modelnumber one. \n",
    "We then use this model to predict our final test dataset."
   ]
  },
  {
   "cell_type": "code",
   "execution_count": 27,
   "metadata": {},
   "outputs": [
    {
     "data": {
      "text/plain": [
       "XGBClassifier(base_score=0.5, booster='gbtree', colsample_bylevel=1,\n",
       "              colsample_bynode=1, colsample_bytree=1, gamma=0, gpu_id=-1,\n",
       "              importance_type='gain', interaction_constraints='',\n",
       "              learning_rate=0.05, max_delta_step=0, max_depth=6,\n",
       "              min_child_weight=1, missing=nan, monotone_constraints='()',\n",
       "              n_estimators=1000, n_jobs=0, num_parallel_tree=1, random_state=0,\n",
       "              reg_alpha=0, reg_lambda=1, scale_pos_weight=1, subsample=1,\n",
       "              tree_method='auto', validate_parameters=1, verbosity=None)"
      ]
     },
     "execution_count": 27,
     "metadata": {},
     "output_type": "execute_result"
    }
   ],
   "source": [
    "loan_modelm1.fit(trainx,trainxy.Label)\n",
    "testx   = pd.read_csv('/home/kshitij/Acads/MS4610 project/IDA project dataset/test_x.csv')\n",
    "testx_model=testx.copy()\n",
    "testx_model.drop(['ID_Test'],axis=1,inplace=True)\n",
    "\n",
    "#Basic conversion of Categorical variables\n",
    "testx_model[\"Loan type\"] = testx_model[\"Loan type\"].astype('category')\n",
    "testx_model[\"Loan type\"] = testx_model[\"Loan type\"].cat.codes\n",
    "testx_model.loc[(testx_model['Loan type']==-1),'Loan type']=np.NaN\n",
    "testx_model=pd.get_dummies(testx_model, columns=[\"Occupation type\"], prefix=[\"Occupation\"])\n",
    "#Dropping Score5 since it has perfect correlation w Expense\n",
    "testx_model.drop(['Score5'],axis=1,inplace=True)\n",
    "\n",
    "\n",
    "final_values = loan_modelm1.predict(testx_model)\n",
    "output = pd.DataFrame({'ID_Test': testx['ID_Test'],\n",
    "                       'Label': final_values})\n",
    "output.to_csv('pred_y_XGB.csv', index=False)"
   ]
  },
  {
   "cell_type": "code",
   "execution_count": null,
   "metadata": {},
   "outputs": [],
   "source": []
  }
 ],
 "metadata": {
  "kernelspec": {
   "display_name": "Python 3",
   "language": "python",
   "name": "python3"
  },
  "language_info": {
   "codemirror_mode": {
    "name": "ipython",
    "version": 3
   },
   "file_extension": ".py",
   "mimetype": "text/x-python",
   "name": "python",
   "nbconvert_exporter": "python",
   "pygments_lexer": "ipython3",
   "version": "3.8.3"
  }
 },
 "nbformat": 4,
 "nbformat_minor": 4
}
